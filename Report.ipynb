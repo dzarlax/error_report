{
 "cells": [
  {
   "cell_type": "code",
   "execution_count": 3,
   "metadata": {},
   "outputs": [
    {
     "ename": "IndentationError",
     "evalue": "unexpected indent (<ipython-input-9-ea930cb5b3fa>, line 2)",
     "traceback": [
      "\u001b[1;36m  File \u001b[1;32m\"<ipython-input-9-ea930cb5b3fa>\"\u001b[1;36m, line \u001b[1;32m2\u001b[0m\n\u001b[1;33m    data.index = pd.to_datetime(data.index)\u001b[0m\n\u001b[1;37m    ^\u001b[0m\n\u001b[1;31mIndentationError\u001b[0m\u001b[1;31m:\u001b[0m unexpected indent\n"
     ],
     "output_type": "error"
    }
   ],
   "source": [
    "import pandas as pd\n",
    "import seaborn as sns\n",
    "import numpy as np\n",
    "import matplotlib.pyplot as plt\n",
    "import matplotlib.ticker as ticker\n",
    "\n",
    "# import matplotlib as mpl\n",
    "# import matplotlib.axes.Axes as ax\n"
   ]
  },
  {
   "cell_type": "code",
   "execution_count": 7,
   "metadata": {},
   "outputs": [
    {
     "ename": "IndentationError",
     "evalue": "unexpected indent (<ipython-input-9-ea930cb5b3fa>, line 2)",
     "traceback": [
      "\u001b[1;36m  File \u001b[1;32m\"<ipython-input-9-ea930cb5b3fa>\"\u001b[1;36m, line \u001b[1;32m2\u001b[0m\n\u001b[1;33m    data.index = pd.to_datetime(data.index)\u001b[0m\n\u001b[1;37m    ^\u001b[0m\n\u001b[1;31mIndentationError\u001b[0m\u001b[1;31m:\u001b[0m unexpected indent\n"
     ],
     "output_type": "error"
    }
   ],
   "source": [
    "\n",
    "data = pd.read_csv(\"~/Desktop/p_report/csv/daily.csv\")\n",
    "\n",
    "data['day'] = data._time.str.split('T').str.get(0)\n",
    "data['hour'] = data._time.str.split(':00.000-0400').str.get(0)\n",
    "data['hour'] = data.hour.str.split('T').str.get(1)\n",
    "data['time'] = data['day']\n",
    "data = data.drop(['_time', 'day', 'hour'], axis=1)\n",
    "data = data[['time'] + data.columns[:-1].tolist()]\n",
    "data.set_index('time')\n"
   ]
  },
  {
   "cell_type": "code",
   "execution_count": 9,
   "metadata": {},
   "outputs": [
    {
     "ename": "IndentationError",
     "evalue": "unexpected indent (<ipython-input-9-ea930cb5b3fa>, line 2)",
     "traceback": [
      "\u001b[1;36m  File \u001b[1;32m\"<ipython-input-9-ea930cb5b3fa>\"\u001b[1;36m, line \u001b[1;32m2\u001b[0m\n\u001b[1;33m    data.index = pd.to_datetime(data.index)\u001b[0m\n\u001b[1;37m    ^\u001b[0m\n\u001b[1;31mIndentationError\u001b[0m\u001b[1;31m:\u001b[0m unexpected indent\n"
     ],
     "output_type": "error"
    }
   ],
   "source": [
    "\n",
    " data.index = pd.to_datetime(data.index)\n",
    " data.index = data.index.tz_localize(tz ='Etc/GMT+4')\n",
    " data.index = data.index.tz_convert('Etc/GMT-3')\n",
    "\n",
    "\n",
    "top = data.sum(axis=0)\n",
    "type(top)\n",
    "top\n",
    "top = pd.Series.to_frame(top)\n",
    "top.sort_index\n",
    "top = top.drop(top.index[0])\n",
    "# top = top.append(pd.DataFrame(columns=[0], dtype=int))\n",
    "# print(top)\n",
    "top = top.sort_values(by=0, ascending=False)\n",
    "top.index = top.index.map(str)\n",
    "# top.to_excel(excel_writer = 'C:/Users/313457/Desktop/p_report/top.xlsx')\n"
   ]
  },
  {
   "cell_type": "code",
   "execution_count": null,
   "metadata": {},
   "outputs": [
    {
     "ename": "IndentationError",
     "evalue": "unexpected indent (<ipython-input-9-ea930cb5b3fa>, line 2)",
     "traceback": [
      "\u001b[1;36m  File \u001b[1;32m\"<ipython-input-9-ea930cb5b3fa>\"\u001b[1;36m, line \u001b[1;32m2\u001b[0m\n\u001b[1;33m    data.index = pd.to_datetime(data.index)\u001b[0m\n\u001b[1;37m    ^\u001b[0m\n\u001b[1;31mIndentationError\u001b[0m\u001b[1;31m:\u001b[0m unexpected indent\n"
     ],
     "output_type": "error"
    }
   ],
   "source": [
    "\n",
    "from matplotlib.backends.backend_pdf import PdfPages\n",
    "\n",
    "with PdfPages('Daily report.pdf') as pdf:\n",
    "    data.plot(linestyle='-', marker='o', figsize=(30, 15))\n",
    "    # plt.rcParams[\"figure.figsize\"] = (30,15)\n",
    "    plt.rcParams['axes.formatter.useoffset'] = False\n",
    "    plt.xticks(data.index.values, data['time'], rotation=60)\n",
    "    plt.grid()\n",
    "    plt.axhline(y=0, color='k')\n",
    "    plt.axvline(x=0, color='k')\n",
    "    plt.title('Errors during last day')\n",
    "    pdf.savefig()\n",
    "    plt.clf()\n",
    "    #   plt.savefig('C:/Users/313457/Desktop/p_report/all.png')\n",
    "    total_rows, total_cols = top.shape;  # There were 3 columns in my df\n",
    "\n",
    "    rows_per_page = 40;  # Assign a page cut off length\n",
    "    rows_printed = 0\n",
    "    page_number = 1;\n"
   ]
  },
  {
   "cell_type": "code",
   "execution_count": null,
   "metadata": {},
   "outputs": [
    {
     "ename": "IndentationError",
     "evalue": "unexpected indent (<ipython-input-9-ea930cb5b3fa>, line 2)",
     "traceback": [
      "\u001b[1;36m  File \u001b[1;32m\"<ipython-input-9-ea930cb5b3fa>\"\u001b[1;36m, line \u001b[1;32m2\u001b[0m\n\u001b[1;33m    data.index = pd.to_datetime(data.index)\u001b[0m\n\u001b[1;37m    ^\u001b[0m\n\u001b[1;31mIndentationError\u001b[0m\u001b[1;31m:\u001b[0m unexpected indent\n"
     ],
     "output_type": "error"
    }
   ],
   "source": [
    "\n",
    "    while (total_rows > 0):\n",
    "        # put the table on a correctly sized figure\n",
    "        fig = plt.figure(figsize=(8.5, 11))\n",
    "        plt.gca().axis('off')\n",
    "        matplotlib_tab = pd.tools.plotting.table(plt.gca(), top.iloc[rows_printed:rows_printed + rows_per_page],\n",
    "                                                 loc='upper center', colWidths=[0.2, 0.2, 0.2])\n",
    "\n",
    "        # Give you cells some styling\n",
    "        table_props = matplotlib_tab.properties()\n",
    "        table_cells = table_props['child_artists']  # I have no clue why child_artists works\n",
    "        for cell in table_cells:\n",
    "            cell.set_height(0.024)\n",
    "            cell.set_fontsize(12)\n",
    "\n",
    "        # Add a header and footer with page number\n",
    "        fig.text(4.25 / 8.5, 10.5 / 11., \"Top errors\", ha='center', fontsize=12)\n",
    "        fig.text(4.25 / 8.5, 0.5 / 11., 'A' + str(page_number), ha='center', fontsize=12)\n",
    "\n",
    "        pdf.savefig()\n",
    "        plt.clf()\n",
    "\n",
    "        # Update variables\n",
    "        rows_printed += rows_per_page;\n",
    "        total_rows -= rows_per_page;\n",
    "        page_number += 1;\n",
    "\n",
    "    error = 0\n",
    "    while error < 10:\n",
    "        i = top.index[error]\n",
    "        data[i].plot(figsize=(20, 10));\n",
    "        plt.xticks(data.index.values, data['time'], rotation=60)\n",
    "        plt.title(i)\n",
    "        plt.grid(True)\n",
    "        plt.draw()\n",
    "        # fig = plt.figure()\n",
    "        pdf.savefig()\n",
    "        error = error + 1\n",
    "        plt.clf()\n",
    "# pdf.close()\n"
   ]
  },
  {
   "cell_type": "code",
   "execution_count": null,
   "metadata": {},
   "outputs": [
    {
     "ename": "IndentationError",
     "evalue": "unexpected indent (<ipython-input-9-ea930cb5b3fa>, line 2)",
     "traceback": [
      "\u001b[1;36m  File \u001b[1;32m\"<ipython-input-9-ea930cb5b3fa>\"\u001b[1;36m, line \u001b[1;32m2\u001b[0m\n\u001b[1;33m    data.index = pd.to_datetime(data.index)\u001b[0m\n\u001b[1;37m    ^\u001b[0m\n\u001b[1;31mIndentationError\u001b[0m\u001b[1;31m:\u001b[0m unexpected indent\n"
     ],
     "output_type": "error"
    }
   ],
   "source": [
    "\n",
    "data = pd.read_csv(\"~/Desktop/p_report/csv/hourly.csv\")\n",
    "\n",
    "data['day'] = data._time.str.split('T').str.get(0)\n",
    "data['hour'] = data._time.str.split(':00.000-0400').str.get(0)\n",
    "data['hour'] = data.hour.str.split('T').str.get(1)\n",
    "data['time'] = data['day'] + ', ' + data['hour']\n",
    "data = data.drop(['_time', 'day', 'hour'], axis=1)\n",
    "data = data[['time'] + data.columns[:-1].tolist()]\n",
    "data.set_index('time')\n",
    "\n",
    "# data.index = pd.to_datetime(data.index)\n",
    "# data.index = data.index.tz_localize(tz ='Etc/GMT+4')\n",
    "# data.index = data.index.tz_convert('Etc/GMT-3')\n",
    "# data.index = data.index.astype(str)\n",
    "\n",
    "top = data.sum(axis=0)\n",
    "type(top)\n",
    "top\n",
    "top = pd.Series.to_frame(top)\n",
    "top.sort_index\n",
    "top = top.drop(top.index[0])\n",
    "# top = top.append(pd.DataFrame(columns=[0], dtype=int))\n",
    "# print(top)\n",
    "top = top.sort_values(by=0, ascending=False)\n",
    "top.index = top.index.map(str)\n",
    "# top.to_excel(excel_writer = 'C:/Users/313457/Desktop/p_report/top.xlsx')\n"
   ]
  },
  {
   "cell_type": "code",
   "execution_count": null,
   "metadata": {},
   "outputs": [
    {
     "ename": "IndentationError",
     "evalue": "unexpected indent (<ipython-input-9-ea930cb5b3fa>, line 2)",
     "traceback": [
      "\u001b[1;36m  File \u001b[1;32m\"<ipython-input-9-ea930cb5b3fa>\"\u001b[1;36m, line \u001b[1;32m2\u001b[0m\n\u001b[1;33m    data.index = pd.to_datetime(data.index)\u001b[0m\n\u001b[1;37m    ^\u001b[0m\n\u001b[1;31mIndentationError\u001b[0m\u001b[1;31m:\u001b[0m unexpected indent\n"
     ],
     "output_type": "error"
    }
   ],
   "source": [
    "\n",
    "from matplotlib.backends.backend_pdf import PdfPages\n",
    "\n",
    "with PdfPages('Hourly report.pdf') as pdf:\n",
    "    data.plot(linestyle='-', marker='o', figsize=(30, 15))\n",
    "    # plt.rcParams[\"figure.figsize\"] = (30,15)\n",
    "    plt.rcParams['axes.formatter.useoffset'] = False\n",
    "    plt.xticks(data.index.values, data['time'], rotation=60)\n",
    "    plt.grid()\n",
    "    plt.axhline(y=0, color='k')\n",
    "    plt.axvline(x=0, color='k')\n",
    "    plt.title('Errors during last day')\n",
    "    pdf.savefig()\n",
    "    plt.clf()\n",
    "    #   plt.savefig('C:/Users/313457/Desktop/p_report/all.png')\n",
    "    total_rows, total_cols = top.shape;  # There were 3 columns in my df\n",
    "\n",
    "    rows_per_page = 40;  # Assign a page cut off length\n",
    "    rows_printed = 0\n",
    "    page_number = 1;\n",
    "\n",
    "    while (total_rows > 0):\n",
    "        # put the table on a correctly sized figure\n",
    "        fig = plt.figure(figsize=(8.5, 11))\n",
    "        plt.gca().axis('off')\n",
    "        matplotlib_tab = pd.tools.plotting.table(plt.gca(), top.iloc[rows_printed:rows_printed + rows_per_page],\n",
    "                                                 loc='upper center', colWidths=[0.2, 0.2, 0.2])\n",
    "\n",
    "        # Give you cells some styling\n",
    "        table_props = matplotlib_tab.properties()\n",
    "        table_cells = table_props['child_artists']  # I have no clue why child_artists works\n",
    "        for cell in table_cells:\n",
    "            cell.set_height(0.024)\n",
    "            cell.set_fontsize(12)\n",
    "\n",
    "        # Add a header and footer with page number\n",
    "        fig.text(4.25 / 8.5, 10.5 / 11., \"Top errors\", ha='center', fontsize=12)\n",
    "        fig.text(4.25 / 8.5, 0.5 / 11., 'A' + str(page_number), ha='center', fontsize=12)\n",
    "\n",
    "        pdf.savefig()\n",
    "        plt.clf()\n",
    "\n",
    "        # Update variables\n",
    "        rows_printed += rows_per_page;\n",
    "        total_rows -= rows_per_page;\n",
    "        page_number += 1;\n",
    "\n",
    "    error = 0\n",
    "    while error < 10:\n",
    "        i = top.index[error]\n",
    "        data[i].plot(figsize=(20, 10));\n",
    "        plt.xticks(data.index.values, data['time'], rotation=60)\n",
    "        plt.title(i)\n",
    "        plt.grid(True)\n",
    "        plt.draw()\n",
    "        # fig = plt.figure()\n",
    "        pdf.savefig()\n",
    "        error = error + 1\n",
    "        plt.clf()\n",
    "# pdf.close()\n"
   ]
  }
 ],
 "metadata": {
  "language": "python"
 },
 "nbformat": 4,
 "nbformat_minor": 2
}
